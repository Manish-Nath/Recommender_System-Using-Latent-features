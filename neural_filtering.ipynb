{
 "cells": [
  {
   "cell_type": "code",
   "execution_count": 3,
   "metadata": {},
   "outputs": [],
   "source": [
    "import pandas as pd\n",
    "\n",
    "# Sample movies DataFrame with features\n",
    "movies_df = pd.DataFrame({\n",
    "    'movieId': [1, 2, 3, 4, 5],\n",
    "    'title': ['Movie A', 'Movie B', 'Movie C', 'Movie D', 'Movie E'],\n",
    "    'genre': ['Action|Adventure', 'Action|Sci-Fi', 'Drama', 'Comedy|Romance', 'Action|Drama'],\n",
    "})\n",
    "\n",
    "# Sample ratings DataFrame\n",
    "ratings_df = pd.DataFrame({\n",
    "    'userId': [1, 1, 1, 2, 2],\n",
    "    'movieId': [1, 2, 3, 1, 4],\n",
    "    'rating': [5, 4, 3, 2, 5]\n",
    "})\n"
   ]
  },
  {
   "cell_type": "code",
   "execution_count": 6,
   "metadata": {},
   "outputs": [
    {
     "data": {
      "text/plain": [
       "<5x7 sparse matrix of type '<class 'numpy.float64'>'\n",
       "\twith 10 stored elements in Compressed Sparse Row format>"
      ]
     },
     "execution_count": 6,
     "metadata": {},
     "output_type": "execute_result"
    }
   ],
   "source": [
    "from sklearn.feature_extraction.text import TfidfVectorizer\n",
    "\n",
    "\n",
    "# Create a TF-IDF vectorizer\n",
    "vectorizer = TfidfVectorizer()\n",
    "tfidf_matrix = vectorizer.fit_transform(movies_df['genre'])\n",
    "tfidf_matrix\n"
   ]
  },
  {
   "cell_type": "code",
   "execution_count": 11,
   "metadata": {},
   "outputs": [
    {
     "data": {
      "text/plain": [
       "matrix([[0.22605504, 0.1794993 , 0.        , 0.17725742, 0.219706  ,\n",
       "         0.15804155, 0.        , 0.15804155, 0.1794993 , 0.17725742,\n",
       "         0.15804155, 0.        , 0.15804155, 0.1794993 , 0.        ,\n",
       "         0.        ]])"
      ]
     },
     "execution_count": 11,
     "metadata": {},
     "output_type": "execute_result"
    }
   ],
   "source": [
    "def create_user_profile(user_id, ratings_df, movies_df):\n",
    "    # Get the movies rated by the user\n",
    "    user_ratings = ratings_df[ratings_df['userId'] == user_id]\n",
    "    \n",
    "    # Get the features of those movies\n",
    "    rated_movies = movies_df[movies_df['movieId'].isin(user_ratings['movieId'])]\n",
    "    \n",
    "    # Calculate the user profile as the average of the features of rated movies\n",
    "    if rated_movies.empty:\n",
    "        return None  # No rated movies\n",
    "    \n",
    "    user_profile = tfidf_matrix[rated_movies.index].mean(axis=0)\n",
    "    return user_profile\n",
    "\n",
    "# Example: Create a user profile for user with ID 1\n",
    "user_profile = create_user_profile(user_id=1, ratings_df=ratings_df, movies_df=movies_df)\n",
    "user_profile"
   ]
  },
  {
   "cell_type": "code",
   "execution_count": 10,
   "metadata": {},
   "outputs": [
    {
     "name": "stdout",
     "output_type": "stream",
     "text": [
      "   movieId    title  similarity\n",
      "1        2  Movie B    0.620225\n",
      "0        1  Movie A    0.620225\n",
      "2        3  Movie C    0.556499\n"
     ]
    }
   ],
   "source": [
    "import pandas as pd\n",
    "from sklearn.feature_extraction.text import TfidfVectorizer\n",
    "from sklearn.metrics.pairwise import cosine_similarity\n",
    "import numpy as np\n",
    "\n",
    "# Sample movies DataFrame with features\n",
    "movies_df = pd.DataFrame({\n",
    "    'movieId': [1, 2, 3, 4, 5],\n",
    "    'title': ['Movie A', 'Movie B', 'Movie C', 'Movie D', 'Movie E'],\n",
    "    'genre': ['Action|Adventure', 'Action|Sci-Fi', 'Drama', 'Comedy|Romance', 'Action|Drama'],\n",
    "    'keywords': ['space, hero', 'future, robots', 'love, family', 'funny, love', 'war, struggle']\n",
    "})\n",
    "\n",
    "# Sample ratings DataFrame\n",
    "ratings_df = pd.DataFrame({\n",
    "    'userId': [1, 1, 1, 2, 2],\n",
    "    'movieId': [1, 2, 3, 1, 4],\n",
    "    'rating': [5, 4, 3, 2, 5]\n",
    "})\n",
    "\n",
    "# Combine features into a single string for each movie\n",
    "movies_df['combined_features'] = movies_df['genre'] + ' ' + movies_df['keywords']\n",
    "\n",
    "# Create a TF-IDF vectorizer\n",
    "vectorizer = TfidfVectorizer()\n",
    "tfidf_matrix = vectorizer.fit_transform(movies_df['combined_features'])\n",
    "\n",
    "def create_user_profile(user_id, ratings_df, movies_df):\n",
    "    user_ratings = ratings_df[ratings_df['userId'] == user_id]\n",
    "    rated_movies = movies_df[movies_df['movieId'].isin(user_ratings['movieId'])]\n",
    "    \n",
    "    if rated_movies.empty:\n",
    "        return None\n",
    "    \n",
    "    user_profile = tfidf_matrix[rated_movies.index].mean(axis=0)\n",
    "    return user_profile\n",
    "\n",
    "def get_movie_recommendations(user_profile, tfidf_matrix, movies_df, top_n=5):\n",
    "    # Convert user_profile to a 2D array if it's a sparse matrix or a matrix\n",
    "    if isinstance(user_profile, np.matrix):\n",
    "        user_profile = np.asarray(user_profile)\n",
    "    elif hasattr(user_profile, 'toarray'):\n",
    "        user_profile = user_profile.toarray()\n",
    "    \n",
    "    # Calculate cosine similarity between user profile and all movies\n",
    "    similarities = cosine_similarity(user_profile, tfidf_matrix).flatten()\n",
    "    \n",
    "    # Create a DataFrame to hold movie titles and their corresponding similarity scores\n",
    "    movie_similarities = pd.DataFrame({\n",
    "        'movieId': movies_df['movieId'],\n",
    "        'title': movies_df['title'],\n",
    "        'similarity': similarities\n",
    "    })\n",
    "    \n",
    "    # Sort the DataFrame by similarity score in descending order\n",
    "    recommended_movies = movie_similarities.sort_values(by='similarity', ascending=False)\n",
    "    \n",
    "    # Return the top N recommended movies\n",
    "    return recommended_movies.head(top_n)\n",
    "\n",
    "# Example: Get recommendations for user with ID 1\n",
    "user_profile = create_user_profile(user_id=1, ratings_df=ratings_df, movies_df=movies_df)\n",
    "if user_profile is not None:\n",
    "    recommendations = get_movie_recommendations(user_profile, tfidf_matrix, movies_df, top_n=3)\n",
    "    print(recommendations)\n",
    "else:\n",
    "    print(\"No rated movies for the user to base recommendations on.\")\n"
   ]
  },
  {
   "cell_type": "code",
   "execution_count": null,
   "metadata": {},
   "outputs": [],
   "source": []
  }
 ],
 "metadata": {
  "kernelspec": {
   "display_name": "Python 3",
   "language": "python",
   "name": "python3"
  },
  "language_info": {
   "codemirror_mode": {
    "name": "ipython",
    "version": 3
   },
   "file_extension": ".py",
   "mimetype": "text/x-python",
   "name": "python",
   "nbconvert_exporter": "python",
   "pygments_lexer": "ipython3",
   "version": "3.8.10"
  }
 },
 "nbformat": 4,
 "nbformat_minor": 2
}
