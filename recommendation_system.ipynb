{
 "cells": [
  {
   "cell_type": "code",
   "execution_count": 5,
   "metadata": {},
   "outputs": [],
   "source": [
    "import pandas as pd\n",
    "import numpy as np\n",
    "from sentence_transformers import SentenceTransformer\n",
    "from sklearn.metrics.pairwise import cosine_similarity\n",
    "import matplotlib.pyplot as plt\n",
    "import re\n"
   ]
  },
  {
   "cell_type": "code",
   "execution_count": 7,
   "metadata": {},
   "outputs": [],
   "source": [
    "# Load the Netflix dataset\n",
    "netflix_data = pd.read_csv(\"E:/honeywell assignment/netflix_titles.csv\")\n",
    "\n",
    "# Select relevant columns for the recommendation system\n",
    "netflix_data = netflix_data[['title', 'description', 'rating', 'duration', 'listed_in']]\n",
    "\n",
    "# Handle missing values by removing rows with NA descriptions\n",
    "netflix_data = netflix_data.dropna(subset=['description'])\n",
    "\n",
    "# Preprocess the description: Convert to lowercase and remove punctuation\n",
    "netflix_data['clean_description'] = netflix_data['description'].str.lower()+' ' +netflix_data['listed_in'].str.lower()\n",
    "netflix_data['clean_description'] = netflix_data['clean_description'].apply(lambda x: re.sub(r'[^\\w\\s]', '', x))"
   ]
  },
  {
   "cell_type": "code",
   "execution_count": 13,
   "metadata": {},
   "outputs": [
    {
     "data": {
      "text/html": [
       "<div>\n",
       "<style scoped>\n",
       "    .dataframe tbody tr th:only-of-type {\n",
       "        vertical-align: middle;\n",
       "    }\n",
       "\n",
       "    .dataframe tbody tr th {\n",
       "        vertical-align: top;\n",
       "    }\n",
       "\n",
       "    .dataframe thead th {\n",
       "        text-align: right;\n",
       "    }\n",
       "</style>\n",
       "<table border=\"1\" class=\"dataframe\">\n",
       "  <thead>\n",
       "    <tr style=\"text-align: right;\">\n",
       "      <th></th>\n",
       "      <th>title</th>\n",
       "      <th>description</th>\n",
       "      <th>rating</th>\n",
       "      <th>duration</th>\n",
       "      <th>listed_in</th>\n",
       "      <th>clean_description</th>\n",
       "    </tr>\n",
       "  </thead>\n",
       "  <tbody>\n",
       "    <tr>\n",
       "      <th>0</th>\n",
       "      <td>Dick Johnson Is Dead</td>\n",
       "      <td>As her father nears the end of his life, filmm...</td>\n",
       "      <td>PG-13</td>\n",
       "      <td>90 min</td>\n",
       "      <td>Documentaries</td>\n",
       "      <td>as her father nears the end of his life filmma...</td>\n",
       "    </tr>\n",
       "    <tr>\n",
       "      <th>1</th>\n",
       "      <td>Blood &amp; Water</td>\n",
       "      <td>After crossing paths at a party, a Cape Town t...</td>\n",
       "      <td>TV-MA</td>\n",
       "      <td>2 Seasons</td>\n",
       "      <td>International TV Shows, TV Dramas, TV Mysteries</td>\n",
       "      <td>after crossing paths at a party a cape town te...</td>\n",
       "    </tr>\n",
       "    <tr>\n",
       "      <th>2</th>\n",
       "      <td>Ganglands</td>\n",
       "      <td>To protect his family from a powerful drug lor...</td>\n",
       "      <td>TV-MA</td>\n",
       "      <td>1 Season</td>\n",
       "      <td>Crime TV Shows, International TV Shows, TV Act...</td>\n",
       "      <td>to protect his family from a powerful drug lor...</td>\n",
       "    </tr>\n",
       "    <tr>\n",
       "      <th>3</th>\n",
       "      <td>Jailbirds New Orleans</td>\n",
       "      <td>Feuds, flirtations and toilet talk go down amo...</td>\n",
       "      <td>TV-MA</td>\n",
       "      <td>1 Season</td>\n",
       "      <td>Docuseries, Reality TV</td>\n",
       "      <td>feuds flirtations and toilet talk go down amon...</td>\n",
       "    </tr>\n",
       "    <tr>\n",
       "      <th>4</th>\n",
       "      <td>Kota Factory</td>\n",
       "      <td>In a city of coaching centers known to train I...</td>\n",
       "      <td>TV-MA</td>\n",
       "      <td>2 Seasons</td>\n",
       "      <td>International TV Shows, Romantic TV Shows, TV ...</td>\n",
       "      <td>in a city of coaching centers known to train i...</td>\n",
       "    </tr>\n",
       "    <tr>\n",
       "      <th>...</th>\n",
       "      <td>...</td>\n",
       "      <td>...</td>\n",
       "      <td>...</td>\n",
       "      <td>...</td>\n",
       "      <td>...</td>\n",
       "      <td>...</td>\n",
       "    </tr>\n",
       "    <tr>\n",
       "      <th>8802</th>\n",
       "      <td>Zodiac</td>\n",
       "      <td>A political cartoonist, a crime reporter and a...</td>\n",
       "      <td>R</td>\n",
       "      <td>158 min</td>\n",
       "      <td>Cult Movies, Dramas, Thrillers</td>\n",
       "      <td>a political cartoonist a crime reporter and a ...</td>\n",
       "    </tr>\n",
       "    <tr>\n",
       "      <th>8803</th>\n",
       "      <td>Zombie Dumb</td>\n",
       "      <td>While living alone in a spooky town, a young g...</td>\n",
       "      <td>TV-Y7</td>\n",
       "      <td>2 Seasons</td>\n",
       "      <td>Kids' TV, Korean TV Shows, TV Comedies</td>\n",
       "      <td>while living alone in a spooky town a young gi...</td>\n",
       "    </tr>\n",
       "    <tr>\n",
       "      <th>8804</th>\n",
       "      <td>Zombieland</td>\n",
       "      <td>Looking to survive in a world taken over by zo...</td>\n",
       "      <td>R</td>\n",
       "      <td>88 min</td>\n",
       "      <td>Comedies, Horror Movies</td>\n",
       "      <td>looking to survive in a world taken over by zo...</td>\n",
       "    </tr>\n",
       "    <tr>\n",
       "      <th>8805</th>\n",
       "      <td>Zoom</td>\n",
       "      <td>Dragged from civilian life, a former superhero...</td>\n",
       "      <td>PG</td>\n",
       "      <td>88 min</td>\n",
       "      <td>Children &amp; Family Movies, Comedies</td>\n",
       "      <td>dragged from civilian life a former superhero ...</td>\n",
       "    </tr>\n",
       "    <tr>\n",
       "      <th>8806</th>\n",
       "      <td>Zubaan</td>\n",
       "      <td>A scrappy but poor boy worms his way into a ty...</td>\n",
       "      <td>TV-14</td>\n",
       "      <td>111 min</td>\n",
       "      <td>Dramas, International Movies, Music &amp; Musicals</td>\n",
       "      <td>a scrappy but poor boy worms his way into a ty...</td>\n",
       "    </tr>\n",
       "  </tbody>\n",
       "</table>\n",
       "<p>8807 rows × 6 columns</p>\n",
       "</div>"
      ],
      "text/plain": [
       "                      title  \\\n",
       "0      Dick Johnson Is Dead   \n",
       "1             Blood & Water   \n",
       "2                 Ganglands   \n",
       "3     Jailbirds New Orleans   \n",
       "4              Kota Factory   \n",
       "...                     ...   \n",
       "8802                 Zodiac   \n",
       "8803            Zombie Dumb   \n",
       "8804             Zombieland   \n",
       "8805                   Zoom   \n",
       "8806                 Zubaan   \n",
       "\n",
       "                                            description rating   duration  \\\n",
       "0     As her father nears the end of his life, filmm...  PG-13     90 min   \n",
       "1     After crossing paths at a party, a Cape Town t...  TV-MA  2 Seasons   \n",
       "2     To protect his family from a powerful drug lor...  TV-MA   1 Season   \n",
       "3     Feuds, flirtations and toilet talk go down amo...  TV-MA   1 Season   \n",
       "4     In a city of coaching centers known to train I...  TV-MA  2 Seasons   \n",
       "...                                                 ...    ...        ...   \n",
       "8802  A political cartoonist, a crime reporter and a...      R    158 min   \n",
       "8803  While living alone in a spooky town, a young g...  TV-Y7  2 Seasons   \n",
       "8804  Looking to survive in a world taken over by zo...      R     88 min   \n",
       "8805  Dragged from civilian life, a former superhero...     PG     88 min   \n",
       "8806  A scrappy but poor boy worms his way into a ty...  TV-14    111 min   \n",
       "\n",
       "                                              listed_in  \\\n",
       "0                                         Documentaries   \n",
       "1       International TV Shows, TV Dramas, TV Mysteries   \n",
       "2     Crime TV Shows, International TV Shows, TV Act...   \n",
       "3                                Docuseries, Reality TV   \n",
       "4     International TV Shows, Romantic TV Shows, TV ...   \n",
       "...                                                 ...   \n",
       "8802                     Cult Movies, Dramas, Thrillers   \n",
       "8803             Kids' TV, Korean TV Shows, TV Comedies   \n",
       "8804                            Comedies, Horror Movies   \n",
       "8805                 Children & Family Movies, Comedies   \n",
       "8806     Dramas, International Movies, Music & Musicals   \n",
       "\n",
       "                                      clean_description  \n",
       "0     as her father nears the end of his life filmma...  \n",
       "1     after crossing paths at a party a cape town te...  \n",
       "2     to protect his family from a powerful drug lor...  \n",
       "3     feuds flirtations and toilet talk go down amon...  \n",
       "4     in a city of coaching centers known to train i...  \n",
       "...                                                 ...  \n",
       "8802  a political cartoonist a crime reporter and a ...  \n",
       "8803  while living alone in a spooky town a young gi...  \n",
       "8804  looking to survive in a world taken over by zo...  \n",
       "8805  dragged from civilian life a former superhero ...  \n",
       "8806  a scrappy but poor boy worms his way into a ty...  \n",
       "\n",
       "[8807 rows x 6 columns]"
      ]
     },
     "execution_count": 13,
     "metadata": {},
     "output_type": "execute_result"
    }
   ],
   "source": [
    "netflix_data"
   ]
  },
  {
   "cell_type": "code",
   "execution_count": 14,
   "metadata": {},
   "outputs": [
    {
     "name": "stderr",
     "output_type": "stream",
     "text": [
      "c:\\Users\\user\\miniconda3\\envs\\DataAnalytics\\lib\\site-packages\\transformers\\tokenization_utils_base.py:1601: FutureWarning: `clean_up_tokenization_spaces` was not set. It will be set to `True` by default. This behavior will be depracted in transformers v4.45, and will be then set to `False` by default. For more details check this issue: https://github.com/huggingface/transformers/issues/31884\n",
      "  warnings.warn(\n"
     ]
    }
   ],
   "source": [
    "# Load a pre-trained sentence transformer model\n",
    "model = SentenceTransformer('all-MiniLM-L6-v2')\n",
    "\n",
    "# Function to recommend movies based on description similarity using sentence transformers\n",
    "def recommend_based_on_description(movie_title, data, model, num_recommendations=5):\n",
    "    # Find the index of the movie\n",
    "    movie_index = data.index[data['title'] == movie_title].tolist()\n",
    "    \n",
    "    if not movie_index:\n",
    "        raise ValueError(\"Movie not found!\")\n",
    "    \n",
    "    movie_index = movie_index[0]\n",
    "\n",
    "    # Generate embeddings for all movie descriptions\n",
    "    embeddings = model.encode(data['clean_description'].tolist(), show_progress_bar=True)\n",
    "    \n",
    "    # Calculate cosine similarity between the target movie and all others\n",
    "    cosine_sim = cosine_similarity([embeddings[movie_index]], embeddings).flatten()\n",
    "    \n",
    "    # Get the indices of the most similar movies (excluding the target movie itself)\n",
    "    sim_scores = list(enumerate(cosine_sim))\n",
    "    sim_scores = sorted(sim_scores, key=lambda x: x[1], reverse=True)\n",
    "    sim_scores = sim_scores[0:num_recommendations+1]  # Exclude the first result (the movie itself)\n",
    "    \n",
    "    # Get the indices of the recommended movies\n",
    "    movie_indices = [i[0] for i in sim_scores]\n",
    "    \n",
    "    # Return the titles of the recommended movies\n",
    "    return data['title'].iloc[movie_indices].tolist(),sim_scores"
   ]
  },
  {
   "cell_type": "code",
   "execution_count": 15,
   "metadata": {},
   "outputs": [
    {
     "name": "stderr",
     "output_type": "stream",
     "text": [
      "Batches: 100%|██████████| 276/276 [01:04<00:00,  4.25it/s]\n"
     ]
    }
   ],
   "source": [
    "\n",
    "# Example: Get recommendations for a specific movie\n",
    "movie_title = \"The Irishman\"\n",
    "description_recommendations,_ = recommend_based_on_description(movie_title, netflix_data, model, 5)\n",
    "\n"
   ]
  },
  {
   "cell_type": "code",
   "execution_count": 16,
   "metadata": {},
   "outputs": [
    {
     "name": "stdout",
     "output_type": "stream",
     "text": [
      "Movies similar to The Irishman:\n",
      "The Irishman\n",
      "Pulp Fiction\n",
      "All Day and a Night\n",
      "Küçük Esnaf\n",
      "The Blue Elephant 2\n",
      "RattleSnake - The Ahanna Story\n"
     ]
    }
   ],
   "source": [
    "# Print recommendations\n",
    "print(f\"Movies similar to {movie_title}:\")\n",
    "for movie in description_recommendations:\n",
    "    print(movie)"
   ]
  },
  {
   "cell_type": "markdown",
   "metadata": {},
   "source": [
    "***Using Tfidf vectoriser***"
   ]
  },
  {
   "cell_type": "code",
   "execution_count": 9,
   "metadata": {},
   "outputs": [
    {
     "name": "stdout",
     "output_type": "stream",
     "text": [
      "Movies similar to The Irishman:\n",
      "The Irishman\n",
      "Rolling Thunder Revue: A Bob Dylan Story by Martin Scorsese\n",
      "All Day and a Night\n",
      "Why We Fight: The Battle of Russia\n",
      "Catch Me If You Can\n",
      "Pretend It’s a City\n"
     ]
    }
   ],
   "source": [
    "from sklearn.feature_extraction.text import TfidfVectorizer\n",
    "\n",
    "def recommend_based_on_description(movie_title, data, num_recommendations=5):\n",
    "    movie_index = data.index[data['title'] == movie_title].tolist()\n",
    "    \n",
    "    if not movie_index:\n",
    "        raise ValueError(\"Movie not found!\")\n",
    "    \n",
    "    movie_index = movie_index[0]\n",
    "    tfidf = TfidfVectorizer(stop_words='english')\n",
    "    tfidf_matrix = tfidf.fit_transform(data['clean_description'])\n",
    "    cosine_sim = cosine_similarity(tfidf_matrix[movie_index], tfidf_matrix).flatten()\n",
    "    sim_scores = list(enumerate(cosine_sim))\n",
    "    sim_scores = sorted(sim_scores, key=lambda x: x[1], reverse=True)\n",
    "    sim_scores = sim_scores[0:num_recommendations+1]  # Exclude the first result (the movie itself)\n",
    "    \n",
    "    # Get the indices of the recommended movies\n",
    "    movie_indices = [i[0] for i in sim_scores]\n",
    "    \n",
    "    # Return the titles of the recommended movies\n",
    "    return data['title'].iloc[movie_indices].tolist()\n",
    "\n",
    "# Example: Get recommendations for a specific movie\n",
    "movie_title = \"The Irishman\"\n",
    "description_recommendations = recommend_based_on_description(movie_title, netflix_data, 5)\n",
    "\n",
    "# Print recommendations\n",
    "print(f\"Movies similar to {movie_title}:\")\n",
    "for movie in description_recommendations:\n",
    "    print(movie)\n"
   ]
  },
  {
   "cell_type": "markdown",
   "metadata": {},
   "source": [
    "**Using KNN for Reccomendation**\n"
   ]
  },
  {
   "cell_type": "code",
   "execution_count": 17,
   "metadata": {},
   "outputs": [
    {
     "name": "stderr",
     "output_type": "stream",
     "text": [
      "c:\\Users\\user\\miniconda3\\envs\\DataAnalytics\\lib\\site-packages\\transformers\\tokenization_utils_base.py:1601: FutureWarning: `clean_up_tokenization_spaces` was not set. It will be set to `True` by default. This behavior will be depracted in transformers v4.45, and will be then set to `False` by default. For more details check this issue: https://github.com/huggingface/transformers/issues/31884\n",
      "  warnings.warn(\n"
     ]
    }
   ],
   "source": [
    "from sklearn.neighbors import NearestNeighbors\n",
    "model = SentenceTransformer('all-MiniLM-L6-v2')\n",
    "def recommend_with_knn(movie_title, data, model, num_recommendations=5):\n",
    "    movie_index = data.index[data['title'] == movie_title].tolist()\n",
    "    if not movie_index:\n",
    "        raise ValueError(\"Movie not found!\")\n",
    "    movie_index = movie_index[0]\n",
    "    embeddings = model.encode(data['clean_description'].tolist(), show_progress_bar=True)\n",
    "    knn = NearestNeighbors(n_neighbors=num_recommendations + 1, metric='cosine')\n",
    "    knn.fit(embeddings)\n",
    "    distances, indices = knn.kneighbors([embeddings[movie_index]])\n",
    "    recommended_indices = indices.flatten()[1:]  # Skip the first result (the movie itself)\n",
    "    recommended_distances = distances.flatten()[1:]\n",
    "\n",
    "    return data['title'].iloc[recommended_indices].tolist(), recommended_distances\n"
   ]
  },
  {
   "cell_type": "code",
   "execution_count": 19,
   "metadata": {},
   "outputs": [
    {
     "name": "stderr",
     "output_type": "stream",
     "text": [
      "Batches: 100%|██████████| 276/276 [01:09<00:00,  3.97it/s]"
     ]
    },
    {
     "name": "stdout",
     "output_type": "stream",
     "text": [
      "Movies similar to The Irishman:\n",
      "Pulp Fiction\n",
      "All Day and a Night\n",
      "Küçük Esnaf\n",
      "The Blue Elephant 2\n",
      "RattleSnake - The Ahanna Story\n"
     ]
    },
    {
     "name": "stderr",
     "output_type": "stream",
     "text": [
      "\n"
     ]
    }
   ],
   "source": [
    "# Example: Get recommendations for a specific movie\n",
    "movie_title = \"The Irishman\"\n",
    "description_recommendations,_ = recommend_with_knn(movie_title, netflix_data,model, 5)\n",
    "\n",
    "# Print recommendations\n",
    "print(f\"Movies similar to {movie_title}:\")\n",
    "for movie in description_recommendations:\n",
    "    print(movie)\n"
   ]
  },
  {
   "cell_type": "code",
   "execution_count": null,
   "metadata": {},
   "outputs": [],
   "source": []
  }
 ],
 "metadata": {
  "kernelspec": {
   "display_name": "Python 3",
   "language": "python",
   "name": "python3"
  },
  "language_info": {
   "codemirror_mode": {
    "name": "ipython",
    "version": 3
   },
   "file_extension": ".py",
   "mimetype": "text/x-python",
   "name": "python",
   "nbconvert_exporter": "python",
   "pygments_lexer": "ipython3",
   "version": "3.9.13"
  }
 },
 "nbformat": 4,
 "nbformat_minor": 2
}
